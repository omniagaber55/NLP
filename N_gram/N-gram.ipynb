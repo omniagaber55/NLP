{
 "cells": [
  {
   "cell_type": "code",
   "execution_count": 2,
   "id": "a0fdd909",
   "metadata": {},
   "outputs": [
    {
     "name": "stdout",
     "output_type": "stream",
     "text": [
      "Enter corpus = Apple is planning to build a new store in New York. Microsoft announced a partnership with SpaceX for cloud services. The Eiffel Tower is located in Paris, France.\n"
     ]
    }
   ],
   "source": [
    "d=input(\"Enter corpus = \")\n"
   ]
  },
  {
   "cell_type": "code",
   "execution_count": 3,
   "id": "6c339af5",
   "metadata": {},
   "outputs": [
    {
     "name": "stdout",
     "output_type": "stream",
     "text": [
      "Preprocessed Data corpus = \n",
      " eos apple is planning to build a new store in new york eos microsoft announced a partnership with spacex for cloud services eos the eiffel tower is located in paris, france eos\n"
     ]
    }
   ],
   "source": [
    "def preprocess(d):\n",
    "    d=d.lower()\n",
    "    d=\"eos \"+ d\n",
    "    d=d.replace(\".\",\" eos\")\n",
    "    return d\n",
    "d=preprocess(d)\n",
    "print(\"Preprocessed Data corpus = \\n\",d)"
   ]
  },
  {
   "cell_type": "code",
   "execution_count": 4,
   "id": "8c9d055c",
   "metadata": {},
   "outputs": [
    {
     "name": "stdout",
     "output_type": "stream",
     "text": [
      "Tokens in the corpus = \n",
      " ['microsoft', 'spacex', 'planning', ',', 'france', 'new', 'announced', 'in', 'for', 'eiffel', 'located', 'build', 'to', 'partnership', 'the', 'eos', 'tower', 'with', 'apple', 'is', 'cloud', 'paris', 'york', 'store', 'services', 'a']\n"
     ]
    }
   ],
   "source": [
    "from nltk import word_tokenize\n",
    "def generate_tokens(d):\n",
    "    tokens = word_tokenize(d)\n",
    "    return tokens\n",
    "tokens=generate_tokens(d)\n",
    "distinct_tokens = list(set(sorted(tokens)))\n",
    "print(\"Tokens in the corpus = \\n\",distinct_tokens)"
   ]
  },
  {
   "cell_type": "code",
   "execution_count": 5,
   "id": "0b93e22d",
   "metadata": {},
   "outputs": [
    {
     "name": "stdout",
     "output_type": "stream",
     "text": [
      "Frequency of each tokens = \n",
      "eos \t: 4\n",
      "apple \t: 1\n",
      "is \t: 2\n",
      "planning \t: 1\n",
      "to \t: 1\n",
      "build \t: 1\n",
      "a \t: 2\n",
      "new \t: 2\n",
      "store \t: 1\n",
      "in \t: 2\n",
      "york \t: 1\n",
      "microsoft \t: 1\n",
      "announced \t: 1\n",
      "partnership \t: 1\n",
      "with \t: 1\n",
      "spacex \t: 1\n",
      "for \t: 1\n",
      "cloud \t: 1\n",
      "services \t: 1\n",
      "the \t: 1\n",
      "eiffel \t: 1\n",
      "tower \t: 1\n",
      "located \t: 1\n",
      "paris \t: 1\n",
      ", \t: 1\n",
      "france \t: 1\n"
     ]
    }
   ],
   "source": [
    "def generate_tokens_freq(tokens):\n",
    "    dct={}\n",
    "    for i in tokens:\n",
    "        dct[i]=0\n",
    "    for i in tokens:\n",
    "        dct[i]+=1\n",
    "    return dct\n",
    "dct=generate_tokens_freq(tokens)\n",
    "print(\"Frequency of each tokens = \")\n",
    "for i in dct.items():\n",
    "    print(i[0],\"\\t:\" , i[1])"
   ]
  },
  {
   "cell_type": "code",
   "execution_count": 6,
   "id": "f4b950a8",
   "metadata": {},
   "outputs": [
    {
     "name": "stdout",
     "output_type": "stream",
     "text": [
      "N-grams generated (Here n is 2) = \n",
      "['eos', 'apple']\n",
      "['apple', 'is']\n",
      "['is', 'planning']\n",
      "['planning', 'to']\n",
      "['to', 'build']\n",
      "['build', 'a']\n",
      "['a', 'new']\n",
      "['new', 'store']\n",
      "['store', 'in']\n",
      "['in', 'new']\n",
      "['new', 'york']\n",
      "['york', 'eos']\n",
      "['eos', 'microsoft']\n",
      "['microsoft', 'announced']\n",
      "['announced', 'a']\n",
      "['a', 'partnership']\n",
      "['partnership', 'with']\n",
      "['with', 'spacex']\n",
      "['spacex', 'for']\n",
      "['for', 'cloud']\n",
      "['cloud', 'services']\n",
      "['services', 'eos']\n",
      "['eos', 'the']\n",
      "['the', 'eiffel']\n",
      "['eiffel', 'tower']\n",
      "['tower', 'is']\n",
      "['is', 'located']\n",
      "['located', 'in']\n",
      "['in', 'paris']\n",
      "['paris', ',']\n",
      "[',', 'france']\n",
      "['france', 'eos']\n"
     ]
    }
   ],
   "source": [
    "def generate_ngrams(tokens,k):\n",
    "    l=[]\n",
    "    i=0\n",
    "    while(i<len(tokens)):\n",
    "        l.append(tokens[i:i+k])\n",
    "        i=i+1\n",
    "    l=l[:-1]\n",
    "    return l\n",
    "bigram = generate_ngrams(tokens,2)\n",
    "print(\"N-grams generated (Here n is 2) = \")\n",
    "for i in bigram:\n",
    "    print(i)"
   ]
  },
  {
   "cell_type": "code",
   "execution_count": 7,
   "id": "2ea81aa7",
   "metadata": {},
   "outputs": [
    {
     "name": "stdout",
     "output_type": "stream",
     "text": [
      "Frequency of n-grams = \n",
      "eos apple : 1\n",
      "apple is : 1\n",
      "is planning : 1\n",
      "planning to : 1\n",
      "to build : 1\n",
      "build a : 1\n",
      "a new : 1\n",
      "new store : 1\n",
      "store in : 1\n",
      "in new : 1\n",
      "new york : 1\n",
      "york eos : 1\n",
      "eos microsoft : 1\n",
      "microsoft announced : 1\n",
      "announced a : 1\n",
      "a partnership : 1\n",
      "partnership with : 1\n",
      "with spacex : 1\n",
      "spacex for : 1\n",
      "for cloud : 1\n",
      "cloud services : 1\n",
      "services eos : 1\n",
      "eos the : 1\n",
      "the eiffel : 1\n",
      "eiffel tower : 1\n",
      "tower is : 1\n",
      "is located : 1\n",
      "located in : 1\n",
      "in paris : 1\n",
      "paris , : 1\n",
      ", france : 1\n",
      "france eos : 1\n"
     ]
    }
   ],
   "source": [
    "def generate_ngram_freq(bigram):\n",
    "    dct1={}\n",
    "    for i in bigram:\n",
    "        st=\" \".join(i)\n",
    "        dct1[st]=0\n",
    "    for i in bigram:\n",
    "        st=\" \".join(i)\n",
    "        dct1[st]+=1\n",
    "    return dct1\n",
    "dct1=generate_ngram_freq(bigram)\n",
    "print(\"Frequency of n-grams = \")\n",
    "for i in dct1.items():\n",
    "    print(i[0], \":\", i[1])"
   ]
  },
  {
   "cell_type": "code",
   "execution_count": 8,
   "id": "b6c0ab06",
   "metadata": {},
   "outputs": [],
   "source": [
    "def find1(s,dct1):\n",
    "    try:\n",
    "        return dct1[s]\n",
    "    except:\n",
    "        return 0\n",
    "def print_probability_table(distinct_tokens,dct,dct1):\n",
    "    n=len(distinct_tokens)\n",
    "    l=[[]*n for i in range(n)]\n",
    "    for i in range(n):\n",
    "        denominator = dct[distinct_tokens[i]]\n",
    "        for j in range(n):\n",
    "            numerator = find1(distinct_tokens[i]+\" \"+distinct_tokens[j],dct1)\n",
    "            l[i].append(float(\"{:.3f}\".format(numerator/denominator)))\n",
    "    return l"
   ]
  },
  {
   "cell_type": "code",
   "execution_count": 9,
   "id": "55789e58",
   "metadata": {},
   "outputs": [
    {
     "name": "stdout",
     "output_type": "stream",
     "text": [
      "Probability table = \n",
      "\n",
      "\tmicrosoft\tspacex\tplanning\t,\tfrance\tnew\tannounced\tin\tfor\teiffel\tlocated\tbuild\tto\tpartnership\tthe\teos\ttower\twith\tapple\tis\tcloud\tparis\tyork\tstore\tservices\ta\t\n",
      "\n",
      "microsoft\t0.0\t0.0\t0.0\t0.0\t0.0\t0.0\t1.0\t0.0\t0.0\t0.0\t0.0\t0.0\t0.0\t0.0\t0.0\t0.0\t0.0\t0.0\t0.0\t0.0\t0.0\t0.0\t0.0\t0.0\t0.0\t0.0\t\n",
      "\n",
      "spacex\t0.0\t0.0\t0.0\t0.0\t0.0\t0.0\t0.0\t0.0\t1.0\t0.0\t0.0\t0.0\t0.0\t0.0\t0.0\t0.0\t0.0\t0.0\t0.0\t0.0\t0.0\t0.0\t0.0\t0.0\t0.0\t0.0\t\n",
      "\n",
      "planning\t0.0\t0.0\t0.0\t0.0\t0.0\t0.0\t0.0\t0.0\t0.0\t0.0\t0.0\t0.0\t1.0\t0.0\t0.0\t0.0\t0.0\t0.0\t0.0\t0.0\t0.0\t0.0\t0.0\t0.0\t0.0\t0.0\t\n",
      "\n",
      ",\t0.0\t0.0\t0.0\t0.0\t1.0\t0.0\t0.0\t0.0\t0.0\t0.0\t0.0\t0.0\t0.0\t0.0\t0.0\t0.0\t0.0\t0.0\t0.0\t0.0\t0.0\t0.0\t0.0\t0.0\t0.0\t0.0\t\n",
      "\n",
      "france\t0.0\t0.0\t0.0\t0.0\t0.0\t0.0\t0.0\t0.0\t0.0\t0.0\t0.0\t0.0\t0.0\t0.0\t0.0\t1.0\t0.0\t0.0\t0.0\t0.0\t0.0\t0.0\t0.0\t0.0\t0.0\t0.0\t\n",
      "\n",
      "new\t0.0\t0.0\t0.0\t0.0\t0.0\t0.0\t0.0\t0.0\t0.0\t0.0\t0.0\t0.0\t0.0\t0.0\t0.0\t0.0\t0.0\t0.0\t0.0\t0.0\t0.0\t0.0\t0.5\t0.5\t0.0\t0.0\t\n",
      "\n",
      "announced\t0.0\t0.0\t0.0\t0.0\t0.0\t0.0\t0.0\t0.0\t0.0\t0.0\t0.0\t0.0\t0.0\t0.0\t0.0\t0.0\t0.0\t0.0\t0.0\t0.0\t0.0\t0.0\t0.0\t0.0\t0.0\t1.0\t\n",
      "\n",
      "in\t0.0\t0.0\t0.0\t0.0\t0.0\t0.5\t0.0\t0.0\t0.0\t0.0\t0.0\t0.0\t0.0\t0.0\t0.0\t0.0\t0.0\t0.0\t0.0\t0.0\t0.0\t0.5\t0.0\t0.0\t0.0\t0.0\t\n",
      "\n",
      "for\t0.0\t0.0\t0.0\t0.0\t0.0\t0.0\t0.0\t0.0\t0.0\t0.0\t0.0\t0.0\t0.0\t0.0\t0.0\t0.0\t0.0\t0.0\t0.0\t0.0\t1.0\t0.0\t0.0\t0.0\t0.0\t0.0\t\n",
      "\n",
      "eiffel\t0.0\t0.0\t0.0\t0.0\t0.0\t0.0\t0.0\t0.0\t0.0\t0.0\t0.0\t0.0\t0.0\t0.0\t0.0\t0.0\t1.0\t0.0\t0.0\t0.0\t0.0\t0.0\t0.0\t0.0\t0.0\t0.0\t\n",
      "\n",
      "located\t0.0\t0.0\t0.0\t0.0\t0.0\t0.0\t0.0\t1.0\t0.0\t0.0\t0.0\t0.0\t0.0\t0.0\t0.0\t0.0\t0.0\t0.0\t0.0\t0.0\t0.0\t0.0\t0.0\t0.0\t0.0\t0.0\t\n",
      "\n",
      "build\t0.0\t0.0\t0.0\t0.0\t0.0\t0.0\t0.0\t0.0\t0.0\t0.0\t0.0\t0.0\t0.0\t0.0\t0.0\t0.0\t0.0\t0.0\t0.0\t0.0\t0.0\t0.0\t0.0\t0.0\t0.0\t1.0\t\n",
      "\n",
      "to\t0.0\t0.0\t0.0\t0.0\t0.0\t0.0\t0.0\t0.0\t0.0\t0.0\t0.0\t1.0\t0.0\t0.0\t0.0\t0.0\t0.0\t0.0\t0.0\t0.0\t0.0\t0.0\t0.0\t0.0\t0.0\t0.0\t\n",
      "\n",
      "partnership\t0.0\t0.0\t0.0\t0.0\t0.0\t0.0\t0.0\t0.0\t0.0\t0.0\t0.0\t0.0\t0.0\t0.0\t0.0\t0.0\t0.0\t1.0\t0.0\t0.0\t0.0\t0.0\t0.0\t0.0\t0.0\t0.0\t\n",
      "\n",
      "the\t0.0\t0.0\t0.0\t0.0\t0.0\t0.0\t0.0\t0.0\t0.0\t1.0\t0.0\t0.0\t0.0\t0.0\t0.0\t0.0\t0.0\t0.0\t0.0\t0.0\t0.0\t0.0\t0.0\t0.0\t0.0\t0.0\t\n",
      "\n",
      "eos\t0.25\t0.0\t0.0\t0.0\t0.0\t0.0\t0.0\t0.0\t0.0\t0.0\t0.0\t0.0\t0.0\t0.0\t0.25\t0.0\t0.0\t0.0\t0.25\t0.0\t0.0\t0.0\t0.0\t0.0\t0.0\t0.0\t\n",
      "\n",
      "tower\t0.0\t0.0\t0.0\t0.0\t0.0\t0.0\t0.0\t0.0\t0.0\t0.0\t0.0\t0.0\t0.0\t0.0\t0.0\t0.0\t0.0\t0.0\t0.0\t1.0\t0.0\t0.0\t0.0\t0.0\t0.0\t0.0\t\n",
      "\n",
      "with\t0.0\t1.0\t0.0\t0.0\t0.0\t0.0\t0.0\t0.0\t0.0\t0.0\t0.0\t0.0\t0.0\t0.0\t0.0\t0.0\t0.0\t0.0\t0.0\t0.0\t0.0\t0.0\t0.0\t0.0\t0.0\t0.0\t\n",
      "\n",
      "apple\t0.0\t0.0\t0.0\t0.0\t0.0\t0.0\t0.0\t0.0\t0.0\t0.0\t0.0\t0.0\t0.0\t0.0\t0.0\t0.0\t0.0\t0.0\t0.0\t1.0\t0.0\t0.0\t0.0\t0.0\t0.0\t0.0\t\n",
      "\n",
      "is\t0.0\t0.0\t0.5\t0.0\t0.0\t0.0\t0.0\t0.0\t0.0\t0.0\t0.5\t0.0\t0.0\t0.0\t0.0\t0.0\t0.0\t0.0\t0.0\t0.0\t0.0\t0.0\t0.0\t0.0\t0.0\t0.0\t\n",
      "\n",
      "cloud\t0.0\t0.0\t0.0\t0.0\t0.0\t0.0\t0.0\t0.0\t0.0\t0.0\t0.0\t0.0\t0.0\t0.0\t0.0\t0.0\t0.0\t0.0\t0.0\t0.0\t0.0\t0.0\t0.0\t0.0\t1.0\t0.0\t\n",
      "\n",
      "paris\t0.0\t0.0\t0.0\t1.0\t0.0\t0.0\t0.0\t0.0\t0.0\t0.0\t0.0\t0.0\t0.0\t0.0\t0.0\t0.0\t0.0\t0.0\t0.0\t0.0\t0.0\t0.0\t0.0\t0.0\t0.0\t0.0\t\n",
      "\n",
      "york\t0.0\t0.0\t0.0\t0.0\t0.0\t0.0\t0.0\t0.0\t0.0\t0.0\t0.0\t0.0\t0.0\t0.0\t0.0\t1.0\t0.0\t0.0\t0.0\t0.0\t0.0\t0.0\t0.0\t0.0\t0.0\t0.0\t\n",
      "\n",
      "store\t0.0\t0.0\t0.0\t0.0\t0.0\t0.0\t0.0\t1.0\t0.0\t0.0\t0.0\t0.0\t0.0\t0.0\t0.0\t0.0\t0.0\t0.0\t0.0\t0.0\t0.0\t0.0\t0.0\t0.0\t0.0\t0.0\t\n",
      "\n",
      "services\t0.0\t0.0\t0.0\t0.0\t0.0\t0.0\t0.0\t0.0\t0.0\t0.0\t0.0\t0.0\t0.0\t0.0\t0.0\t1.0\t0.0\t0.0\t0.0\t0.0\t0.0\t0.0\t0.0\t0.0\t0.0\t0.0\t\n",
      "\n",
      "a\t0.0\t0.0\t0.0\t0.0\t0.0\t0.5\t0.0\t0.0\t0.0\t0.0\t0.0\t0.0\t0.0\t0.5\t0.0\t0.0\t0.0\t0.0\t0.0\t0.0\t0.0\t0.0\t0.0\t0.0\t0.0\t0.0\t\n",
      "\n"
     ]
    }
   ],
   "source": [
    "print(\"Probability table = \\n\")\n",
    "probability_table=print_probability_table(distinct_tokens,dct,dct1)\n",
    "n=len(distinct_tokens)\n",
    "print(\"\\t\", end=\"\")\n",
    "for i in range(n):\n",
    "    print(distinct_tokens[i],end=\"\\t\")\n",
    "print(\"\\n\")\n",
    "for i in range(n):\n",
    "    print(distinct_tokens[i],end=\"\\t\")\n",
    "    for j in range(n):\n",
    "        print(probability_table[i][j],end=\"\\t\")\n",
    "    print(\"\\n\")"
   ]
  },
  {
   "cell_type": "code",
   "execution_count": 11,
   "id": "db369c4e",
   "metadata": {},
   "outputs": [
    {
     "name": "stdout",
     "output_type": "stream",
     "text": [
      "Enter Text = \n",
      "The Eiffel Tower is located in Paris, France.\n"
     ]
    }
   ],
   "source": [
    "text = input(\"Enter Text = \\n\")\n"
   ]
  },
  {
   "cell_type": "code",
   "execution_count": 12,
   "id": "37f8c8d4",
   "metadata": {},
   "outputs": [
    {
     "name": "stdout",
     "output_type": "stream",
     "text": [
      "Preprocessed Text = \n",
      " eos the eiffel tower is located in paris, france eos \n",
      "\n",
      "Tokens Generated = \n",
      " ['eos', 'the', 'eiffel', 'tower', 'is', 'located', 'in', 'paris', ',', 'france', 'eos'] \n",
      "\n",
      "N-grams Generated = \n",
      "=  [['eos', 'the'], ['the', 'eiffel'], ['eiffel', 'tower'], ['tower', 'is'], ['is', 'located'], ['located', 'in'], ['in', 'paris'], ['paris', ','], [',', 'france'], ['france', 'eos']]\n"
     ]
    }
   ],
   "source": [
    "p = preprocess(text)\n",
    "print(\"Preprocessed Text = \\n\",p,\"\\n\")\n",
    "t = generate_tokens(p)\n",
    "print(\"Tokens Generated = \\n\",t,\"\\n\")\n",
    "n = generate_ngrams(t,2)\n",
    "print(\"N-grams Generated = \\n= \",n)"
   ]
  },
  {
   "cell_type": "code",
   "execution_count": 13,
   "id": "46c34386",
   "metadata": {},
   "outputs": [
    {
     "name": "stdout",
     "output_type": "stream",
     "text": [
      "Preprocessed Text = \n",
      " eos the eiffel tower is located in paris, france eos \n",
      "\n",
      "Tokens Generated = \n",
      " ['eos', 'the', 'eiffel', 'tower', 'is', 'located', 'in', 'paris', ',', 'france', 'eos'] \n",
      "\n",
      "N-grams Generated = \n",
      "=  [['eos', 'the'], ['the', 'eiffel'], ['eiffel', 'tower'], ['tower', 'is'], ['is', 'located'], ['located', 'in'], ['in', 'paris'], ['paris', ','], [',', 'france'], ['france', 'eos']]\n"
     ]
    }
   ],
   "source": [
    "p = preprocess(text)\n",
    "print(\"Preprocessed Text = \\n\",p,\"\\n\")\n",
    "t = generate_tokens(p)\n",
    "print(\"Tokens Generated = \\n\",t,\"\\n\")\n",
    "n = generate_ngrams(t,2)\n",
    "print(\"N-grams Generated = \\n= \",n)"
   ]
  },
  {
   "cell_type": "code",
   "execution_count": 16,
   "id": "b0a6a08b",
   "metadata": {},
   "outputs": [
    {
     "name": "stdout",
     "output_type": "stream",
     "text": [
      "Calculate bigram probability\n",
      "P('eos the')\t=  0.25\n",
      "P('the eiffel')\t=  1.0\n",
      "P('eiffel tower')\t=  1.0\n",
      "P('tower is')\t=  1.0\n",
      "P('is located')\t=  0.5\n",
      "P('located in')\t=  1.0\n",
      "P('in paris')\t=  0.5\n",
      "P('paris ,')\t=  1.0\n",
      "P(', france')\t=  1.0\n",
      "P('france eos')\t=  1.0\n",
      "Product of probabilities:  0.0625\n"
     ]
    }
   ],
   "source": [
    "print(\"Calculate bigram probability\")\n",
    "s = 1\n",
    "dct2 = {}\n",
    "for i in n:\n",
    "    dct2[\" \".join(i)] = 0\n",
    "for i in n:\n",
    "    k = distinct_tokens.index(i[0])\n",
    "    m = distinct_tokens.index(i[1])\n",
    "    dct2[\" \".join(i)] = probability_table[k][m]\n",
    "    print(\"P('{}')\\t=  {}\".format(' '.join(i), probability_table[k][m]))\n",
    "    s *= probability_table[k][m]\n",
    "\n",
    "print(\"Product of probabilities: \", s)"
   ]
  },
  {
   "cell_type": "code",
   "execution_count": null,
   "id": "98d5eac1",
   "metadata": {},
   "outputs": [],
   "source": [
    "\n"
   ]
  },
  {
   "cell_type": "code",
   "execution_count": null,
   "id": "132ad9a9",
   "metadata": {},
   "outputs": [],
   "source": [
    "\n"
   ]
  },
  {
   "cell_type": "code",
   "execution_count": null,
   "id": "3662e535",
   "metadata": {},
   "outputs": [],
   "source": [
    "\n"
   ]
  },
  {
   "cell_type": "code",
   "execution_count": null,
   "id": "8e9c8636",
   "metadata": {},
   "outputs": [],
   "source": []
  },
  {
   "cell_type": "code",
   "execution_count": null,
   "id": "084a8962",
   "metadata": {},
   "outputs": [],
   "source": []
  },
  {
   "cell_type": "code",
   "execution_count": null,
   "id": "d8cd00b0",
   "metadata": {},
   "outputs": [],
   "source": []
  }
 ],
 "metadata": {
  "kernelspec": {
   "display_name": "Python 3 (ipykernel)",
   "language": "python",
   "name": "python3"
  },
  "language_info": {
   "codemirror_mode": {
    "name": "ipython",
    "version": 3
   },
   "file_extension": ".py",
   "mimetype": "text/x-python",
   "name": "python",
   "nbconvert_exporter": "python",
   "pygments_lexer": "ipython3",
   "version": "3.11.4"
  }
 },
 "nbformat": 4,
 "nbformat_minor": 5
}
